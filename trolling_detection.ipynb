{
 "cells": [
  {
   "cell_type": "markdown",
   "metadata": {},
   "source": [
    "# Define Global Variables and Helper Functions"
   ]
  },
  {
   "cell_type": "code",
   "execution_count": 1,
   "metadata": {},
   "outputs": [],
   "source": [
    "# Global Imports\n",
    "import numpy as np\n",
    "from sklearn import metrics\n",
    "import pandas as pd\n",
    "import os\n",
    "import matplotlib.pyplot as plt\n",
    "\n",
    "# Helpers\n",
    "TRAIN_FILE = \"resources/train/train.csv\"\n",
    "TEST_FILE = \"resources/test/test_with_solutions.csv\"\n",
    "BAD_WORDS_FILE = \"resources/badwords.txt\"\n",
    "NO_INSULT = 'NoInsult'\n",
    "INSULT = 'Insult'\n",
    "\n",
    "# Comments preprocessing\n",
    "def preprocess_comment(comment):\n",
    "    import re\n",
    "    comment = comment.strip().strip('\"')\n",
    "    comment = comment.replace('_', ' ')\n",
    "    comment = comment.replace(\"\\\\\\\\\", \"\\\\\")\n",
    "    comment = comment.replace('\\\\n', ' ')\n",
    "    comment = comment.replace('\\\\n', ' ')\n",
    "    comment = comment.lower()\n",
    "    comment = re.sub(r'^https?:\\/\\/.*[\\r\\n]*', 'URL', comment, flags=re.MULTILINE)\n",
    "    comment = comment.encode('utf-8').decode('unicode-escape')\n",
    "    return comment\n",
    "\n",
    "# Predictions Accuracy Report\n",
    "def predictions_report(pred, ground_truth):\n",
    "    print(\"Accuracy: \" + str(np.mean(pred == ground_truth)) + \"\\n\")\n",
    "    print(metrics.classification_report(ground_truth, pred,\n",
    "        target_names=['NoInsult', 'Insult']))\n",
    "\n",
    "# Predictions Proba Accuracy Report\n",
    "def predictions_report_proba(pred, ground_truth, threshold=0.5):\n",
    "    # Extract Plain Estimations\n",
    "\n",
    "    labels = []\n",
    "    for index, prediction in enumerate(pred):\n",
    "        if isinstance(prediction, list) or type(prediction) is np.ndarray:\n",
    "            if len(prediction) == 1:\n",
    "                if prediction[0] >= threshold:\n",
    "                    labels.append(1)\n",
    "                else:\n",
    "                    labels.append(0)\n",
    "            else:\n",
    "                if prediction[0] > prediction[1]:\n",
    "                    labels.append(0)\n",
    "                else:\n",
    "                    labels.append(1)\n",
    "        else:\n",
    "            if prediction >= threshold:\n",
    "                labels.append(1)\n",
    "            else:\n",
    "                labels.append(0)\n",
    "\n",
    "    labels = np.array(labels)\n",
    "\n",
    "    print(\"Accuracy: \" + str(np.mean(labels==ground_truth)) + \"\\n\")\n",
    "    print(metrics.classification_report(ground_truth, labels,\n",
    "        target_names=['NoInsult', 'Insult']))\n",
    "\n",
    "# Load Bad Words Helper\n",
    "def load_bad_words(badwords_file):\n",
    "    with open(badwords_file) as f:\n",
    "        lines = f.readlines()\n",
    "        return [badword[:-1] for badword in lines]"
   ]
  },
  {
   "cell_type": "markdown",
   "metadata": {},
   "source": [
    "# Load Resources"
   ]
  },
  {
   "cell_type": "code",
   "execution_count": 93,
   "metadata": {},
   "outputs": [
    {
     "name": "stderr",
     "output_type": "stream",
     "text": [
      "<ipython-input-1-e6d58d29dccd>:25: DeprecationWarning: invalid escape sequence '\\ '\n",
      "  comment = comment.encode('utf-8').decode('unicode-escape')\n",
      "<ipython-input-1-e6d58d29dccd>:25: DeprecationWarning: invalid escape sequence '\\p'\n",
      "  comment = comment.encode('utf-8').decode('unicode-escape')\n",
      "<ipython-input-1-e6d58d29dccd>:25: DeprecationWarning: invalid escape sequence '\\/'\n",
      "  comment = comment.encode('utf-8').decode('unicode-escape')\n"
     ]
    }
   ],
   "source": [
    "# Load list of badwords\n",
    "badwords = load_bad_words(BAD_WORDS_FILE)\n",
    "\n",
    "# Load Train Data\n",
    "train_df = pd.read_csv(TRAIN_FILE)\n",
    "\n",
    "# Load Test Data\n",
    "test_df = pd.read_csv(TEST_FILE)\n",
    "\n",
    "raw_train_comments = train_df['Comment'].apply(lambda comment: preprocess_comment(comment))\n",
    "raw_test_comments = test_df['Comment'].apply(lambda comment: preprocess_comment(comment))"
   ]
  },
  {
   "cell_type": "code",
   "execution_count": 3,
   "metadata": {},
   "outputs": [
    {
     "name": "stdout",
     "output_type": "stream",
     "text": [
      "3947\n"
     ]
    },
    {
     "data": {
      "text/html": [
       "<div>\n",
       "<style scoped>\n",
       "    .dataframe tbody tr th:only-of-type {\n",
       "        vertical-align: middle;\n",
       "    }\n",
       "\n",
       "    .dataframe tbody tr th {\n",
       "        vertical-align: top;\n",
       "    }\n",
       "\n",
       "    .dataframe thead th {\n",
       "        text-align: right;\n",
       "    }\n",
       "</style>\n",
       "<table border=\"1\" class=\"dataframe\">\n",
       "  <thead>\n",
       "    <tr style=\"text-align: right;\">\n",
       "      <th></th>\n",
       "      <th>Insult</th>\n",
       "      <th>Date</th>\n",
       "      <th>Comment</th>\n",
       "    </tr>\n",
       "  </thead>\n",
       "  <tbody>\n",
       "    <tr>\n",
       "      <th>0</th>\n",
       "      <td>1</td>\n",
       "      <td>20120618192155Z</td>\n",
       "      <td>\"You fuck your dad.\"</td>\n",
       "    </tr>\n",
       "    <tr>\n",
       "      <th>1</th>\n",
       "      <td>0</td>\n",
       "      <td>20120528192215Z</td>\n",
       "      <td>\"i really don't understand your point.\\xa0 It ...</td>\n",
       "    </tr>\n",
       "    <tr>\n",
       "      <th>2</th>\n",
       "      <td>0</td>\n",
       "      <td>NaN</td>\n",
       "      <td>\"A\\\\xc2\\\\xa0majority of Canadians can and has ...</td>\n",
       "    </tr>\n",
       "    <tr>\n",
       "      <th>3</th>\n",
       "      <td>0</td>\n",
       "      <td>NaN</td>\n",
       "      <td>\"listen if you dont wanna get married to a man...</td>\n",
       "    </tr>\n",
       "    <tr>\n",
       "      <th>4</th>\n",
       "      <td>0</td>\n",
       "      <td>20120619094753Z</td>\n",
       "      <td>\"C\\xe1c b\\u1ea1n xu\\u1ed1ng \\u0111\\u01b0\\u1edd...</td>\n",
       "    </tr>\n",
       "  </tbody>\n",
       "</table>\n",
       "</div>"
      ],
      "text/plain": [
       "   Insult             Date                                            Comment\n",
       "0       1  20120618192155Z                               \"You fuck your dad.\"\n",
       "1       0  20120528192215Z  \"i really don't understand your point.\\xa0 It ...\n",
       "2       0              NaN  \"A\\\\xc2\\\\xa0majority of Canadians can and has ...\n",
       "3       0              NaN  \"listen if you dont wanna get married to a man...\n",
       "4       0  20120619094753Z  \"C\\xe1c b\\u1ea1n xu\\u1ed1ng \\u0111\\u01b0\\u1edd..."
      ]
     },
     "execution_count": 3,
     "metadata": {},
     "output_type": "execute_result"
    }
   ],
   "source": [
    "print(len(train_df.index))\n",
    "train_df.head()"
   ]
  },
  {
   "cell_type": "code",
   "execution_count": 4,
   "metadata": {},
   "outputs": [
    {
     "data": {
      "image/png": "[encoded data removed]",
      "text/plain": [
       "<Figure size 432x288 with 1 Axes>"
      ]
     },
     "metadata": {
      "needs_background": "light"
     },
     "output_type": "display_data"
    }
   ],
   "source": [
    "# Categories Balance\n",
    "x = [NO_INSULT, INSULT]\n",
    "ni_count, icount = train_df['Insult'].value_counts()\n",
    "y = [ni_count, icount]\n",
    "plt.barh(x, y)\n",
    "for index, value in enumerate(y):\n",
    "    plt.text(value, index, str(value))"
   ]
  },
  {
   "cell_type": "code",
   "execution_count": 5,
   "metadata": {},
   "outputs": [
    {
     "data": {
      "text/plain": [
       "0    0.734229\n",
       "1    0.265771\n",
       "Name: Insult, dtype: float64"
      ]
     },
     "execution_count": 5,
     "metadata": {},
     "output_type": "execute_result"
    }
   ],
   "source": [
    "train_df['Insult'].value_counts(normalize=True)"
   ]
  },
  {
   "cell_type": "code",
   "execution_count": 6,
   "metadata": {},
   "outputs": [
    {
     "name": "stdout",
     "output_type": "stream",
     "text": [
      "2647\n"
     ]
    },
    {
     "data": {
      "text/html": [
       "<div>\n",
       "<style scoped>\n",
       "    .dataframe tbody tr th:only-of-type {\n",
       "        vertical-align: middle;\n",
       "    }\n",
       "\n",
       "    .dataframe tbody tr th {\n",
       "        vertical-align: top;\n",
       "    }\n",
       "\n",
       "    .dataframe thead th {\n",
       "        text-align: right;\n",
       "    }\n",
       "</style>\n",
       "<table border=\"1\" class=\"dataframe\">\n",
       "  <thead>\n",
       "    <tr style=\"text-align: right;\">\n",
       "      <th></th>\n",
       "      <th>Insult</th>\n",
       "      <th>Date</th>\n",
       "      <th>Comment</th>\n",
       "      <th>Usage</th>\n",
       "    </tr>\n",
       "  </thead>\n",
       "  <tbody>\n",
       "    <tr>\n",
       "      <th>0</th>\n",
       "      <td>0</td>\n",
       "      <td>NaN</td>\n",
       "      <td>\"THE DRUDGE REPORT\\\\n\\\\n\\\\n\\\\nYou won't see th...</td>\n",
       "      <td>PublicTest</td>\n",
       "    </tr>\n",
       "    <tr>\n",
       "      <th>1</th>\n",
       "      <td>0</td>\n",
       "      <td>20120618222256Z</td>\n",
       "      <td>\"@ian21\\xa0\"Roger Clemens is the fucking man, ...</td>\n",
       "      <td>PublicTest</td>\n",
       "    </tr>\n",
       "    <tr>\n",
       "      <th>2</th>\n",
       "      <td>1</td>\n",
       "      <td>20120618213617Z</td>\n",
       "      <td>\"Agree with Alan you are an extremest idiot.  ...</td>\n",
       "      <td>PublicTest</td>\n",
       "    </tr>\n",
       "    <tr>\n",
       "      <th>3</th>\n",
       "      <td>0</td>\n",
       "      <td>NaN</td>\n",
       "      <td>\"Really?\\\\n\\\\nI see Marc Lamont Hill on variou...</td>\n",
       "      <td>PrivateTest</td>\n",
       "    </tr>\n",
       "    <tr>\n",
       "      <th>4</th>\n",
       "      <td>0</td>\n",
       "      <td>20120620003825Z</td>\n",
       "      <td>\"Really suck isn't the word, when many of our ...</td>\n",
       "      <td>PrivateTest</td>\n",
       "    </tr>\n",
       "  </tbody>\n",
       "</table>\n",
       "</div>"
      ],
      "text/plain": [
       "   Insult             Date                                            Comment  \\\n",
       "0       0              NaN  \"THE DRUDGE REPORT\\\\n\\\\n\\\\n\\\\nYou won't see th...   \n",
       "1       0  20120618222256Z  \"@ian21\\xa0\"Roger Clemens is the fucking man, ...   \n",
       "2       1  20120618213617Z  \"Agree with Alan you are an extremest idiot.  ...   \n",
       "3       0              NaN  \"Really?\\\\n\\\\nI see Marc Lamont Hill on variou...   \n",
       "4       0  20120620003825Z  \"Really suck isn't the word, when many of our ...   \n",
       "\n",
       "         Usage  \n",
       "0   PublicTest  \n",
       "1   PublicTest  \n",
       "2   PublicTest  \n",
       "3  PrivateTest  \n",
       "4  PrivateTest  "
      ]
     },
     "execution_count": 6,
     "metadata": {},
     "output_type": "execute_result"
    }
   ],
   "source": [
    "print(len(test_df.index))\n",
    "test_df.head()"
   ]
  },
  {
   "cell_type": "code",
   "execution_count": 7,
   "metadata": {},
   "outputs": [
    {
     "data": {
      "image/png": "[encoded data removed]",
      "text/plain": [
       "<Figure size 432x288 with 1 Axes>"
      ]
     },
     "metadata": {
      "needs_background": "light"
     },
     "output_type": "display_data"
    }
   ],
   "source": [
    "ni_count, icount = test_df['Insult'].value_counts()\n",
    "y = [ni_count, icount]\n",
    "plt.barh(x, y)\n",
    "for index, value in enumerate(y):\n",
    "    plt.text(value, index, str(value))"
   ]
  },
  {
   "cell_type": "code",
   "execution_count": 8,
   "metadata": {},
   "outputs": [
    {
     "data": {
      "text/plain": [
       "0    0.738194\n",
       "1    0.261806\n",
       "Name: Insult, dtype: float64"
      ]
     },
     "execution_count": 8,
     "metadata": {},
     "output_type": "execute_result"
    }
   ],
   "source": [
    "# Test Dataset Balance\n",
    "test_df['Insult'].value_counts(normalize=True)"
   ]
  },
  {
   "cell_type": "code",
   "execution_count": 117,
   "metadata": {},
   "outputs": [],
   "source": [
    "train_labels = train_df[\"Insult\"]\n",
    "train_comments = train_df[\"Comment\"]"
   ]
  },
  {
   "cell_type": "code",
   "execution_count": 10,
   "metadata": {
    "pycharm": {
     "name": "#%%\n"
    }
   },
   "outputs": [],
   "source": [
    "test_labels = test_df[\"Insult\"]\n",
    "test_comments = test_df[\"Comment\"]"
   ]
  },
  {
   "cell_type": "code",
   "execution_count": 85,
   "metadata": {},
   "outputs": [],
   "source": [
    "assert len(train_labels) == len(train_comments) == 3947"
   ]
  },
  {
   "cell_type": "markdown",
   "metadata": {
    "pycharm": {
     "name": "#%% md\n"
    }
   },
   "source": [
    "# NLTK: Corpus Stats\n",
    "\n",
    "## Raw Corpus\n",
    "\n",
    "First, let's take a look to the Frequency Distribution and TF-IDF distribution of the training set without any preprocessing.\n",
    "\n",
    "Note: the tokenizer applied remove stopwords, normalize the text to lowercase and filter tokens of size < 3 characters"
   ]
  },
  {
   "cell_type": "code",
   "execution_count": 12,
   "metadata": {
    "pycharm": {
     "name": "#%%\n"
    }
   },
   "outputs": [
    {
     "name": "stdout",
     "output_type": "stream",
     "text": [
      "Number of Words: 73786\n",
      "Number of unique words: 16372\n",
      "[   ('xa0', 1223),\n",
      "    ('like', 718),\n",
      "    ('xc2', 615),\n",
      "    ('...', 437),\n",
      "    ('people', 419),\n",
      "    ('.\\\\\\\\', 415),\n",
      "    ('get', 398),\n",
      "    ('would', 371),\n",
      "    ('one', 360),\n",
      "    ('know', 328),\n",
      "    ('think', 302),\n",
      "    (\"\\\\\\\\'\", 263),\n",
      "    ('://', 245),\n",
      "    ('fuck', 242),\n",
      "    ('x80', 224),\n",
      "    ('right', 223),\n",
      "    ('time', 219),\n",
      "    ('xe2', 213),\n",
      "    ('make', 211),\n",
      "    ('good', 207)]\n"
     ]
    }
   ],
   "source": [
    "from feature_extraction import corpus_stats, tf_idf_stats\n",
    "\n",
    "corpus_stats(train_comments)"
   ]
  },
  {
   "cell_type": "code",
   "execution_count": 13,
   "metadata": {},
   "outputs": [
    {
     "name": "stdout",
     "output_type": "stream",
     "text": [
      "\n",
      "Number of Features: 3820\n",
      "\n",
      "Scores for comment: 0\n",
      "dad                  0.8535369792459815\n",
      "fuck                 0.521032268731645\n",
      "\n",
      "\n",
      "\n",
      "Scores for comment: 1\n",
      "oranges              0.5306263581464218\n",
      "apples               0.5197044492665618\n",
      "understand           0.36515999718423015\n",
      "point                0.34980838586743224\n",
      "really               0.29286527905890025\n",
      "don                  0.24152415100169672\n",
      "xa0                  0.22029806147740302\n",
      "\n",
      "\n",
      "\n",
      "Scores for comment: 2\n",
      "xc2                  0.3201457437837055\n",
      "inadvertently        0.29957606737309345\n",
      "damage               0.2911085231656127\n",
      "regard               0.2911085231656127\n",
      "canadians            0.2841900357926315\n",
      "mail                 0.2841900357926315\n",
      "perfect              0.25788744107674183\n",
      "daughter             0.24941989686926105\n",
      "proof                0.23850333373383326\n",
      "son                  0.23003578952635248\n",
      "xa0the               0.22854749591213686\n",
      "idea                 0.21950060269617008\n",
      "kill                 0.21126373775810095\n",
      "sorry                0.20449981932779426\n",
      "wrong                0.19810115683664803\n",
      "like                 0.11007715246411283\n",
      "\n",
      "\n",
      "\n",
      "Scores for comment: 3\n",
      "married              0.45173878274554974\n",
      "dont                 0.32575508025077876\n",
      "wasnt                0.25906529250234656\n",
      "quick                0.2517427889521695\n",
      "people               0.23790850778601833\n",
      "suppose              0.23245444333275292\n",
      "bother               0.2289970153882341\n",
      "judge                0.22301409435361433\n",
      "wanna                0.21569159080343728\n",
      "listen               0.21158433539213709\n",
      "stay                 0.19186981216287324\n",
      "nice                 0.1782134193691978\n",
      "women                0.1761829647101862\n",
      "thought              0.17365747162008527\n",
      "god                  0.1637644918134461\n",
      "let                  0.1576320706809686\n",
      "gay                  0.15546764580526237\n",
      "man                  0.14286795196264415\n",
      "got                  0.14193031061056438\n",
      "like                 0.0951917486299911\n",
      "\n",
      "\n",
      "\n",
      "Scores for comment: 4\n",
      "u0111                0.5653840466112466\n",
      "xe0                  0.34909770568879844\n",
      "u01b0                0.2826920233056233\n",
      "xf4ng                0.2826920233056233\n",
      "th                   0.27597356253225125\n",
      "kh                   0.2327318037925323\n",
      "ho                   0.23160774973255066\n",
      "xf3                  0.16961521398337398\n",
      "ch                   0.16558413751935075\n",
      "bi                   0.11636590189626615\n",
      "chi                  0.11636590189626615\n",
      "cu                   0.11636590189626615\n",
      "xe2n                 0.11636590189626615\n",
      "xe3                  0.11636590189626615\n",
      "xf4i                 0.11636590189626615\n",
      "xec                  0.11307680932224932\n",
      "ng                   0.1103894250129005\n",
      "nh                   0.1103894250129005\n",
      "gi                   0.058182950948133076\n",
      "khi                  0.058182950948133076\n",
      "\n",
      "\n",
      "\n",
      "Scores for comment: 5\n",
      "falls                0.32265765609972136\n",
      "sdl                  0.32265765609972136\n",
      "skills               0.3135377087325509\n",
      "productive           0.306086169165001\n",
      "contract             0.28951468223028054\n",
      "hurt                 0.25897579380375485\n",
      "sign                 0.25687942067377567\n",
      "chance               0.25488535126580847\n",
      "playing              0.25116730597949904\n",
      "ok                   0.23641257661019505\n",
      "start                0.22195919655529\n",
      "hope                 0.2034074454198284\n",
      "old                  0.20125587941771544\n",
      "year                 0.20125587941771544\n",
      "time                 0.16530090849651477\n",
      "\n",
      "\n",
      "\n",
      "Scores for comment: 6\n",
      "yeah                 1.0\n",
      "\n",
      "\n",
      "\n",
      "Scores for comment: 7\n",
      "burned               0.47267418513506926\n",
      "stake                0.4519427517610451\n",
      "faggot               0.3842527465020163\n",
      "friends              0.3564040907762901\n",
      "rest                 0.3564040907762901\n",
      "shut                 0.3359399641036873\n",
      "fuck                 0.24036072748490928\n",
      "\n",
      "\n",
      "\n",
      "Scores for comment: 8\n",
      "extremely            0.6269501175992181\n",
      "fake                 0.5181457444089772\n",
      "maybe                0.44921371996717435\n",
      "stupid               0.3696830688393053\n",
      "\n",
      "\n",
      "\n",
      "Scores for comment: 9\n",
      "health               0.6593542026161987\n",
      "women                0.5839627759110696\n",
      "idiot                0.473539345611951\n",
      "\n",
      "\n",
      "\n",
      "Scores for comment: 10\n",
      "injured              0.4351905204398433\n",
      "injury               0.4272680710265408\n",
      "looked               0.3940659326854057\n",
      "happened             0.3700095909914432\n",
      "doubt                0.35294134493096807\n",
      "wish                 0.35294134493096807\n",
      "dont                 0.29448423344607455\n",
      "\n",
      "\n",
      "\n",
      "Scores for comment: 11\n",
      "careful              1.0\n",
      "\n",
      "\n",
      "\n",
      "Scores for comment: 12\n",
      "attention            0.6693570693354229\n",
      "pay                  0.5590168467992129\n",
      "don                  0.360092546887582\n",
      "just                 0.3313527371267268\n",
      "\n",
      "\n",
      "\n",
      "Scores for comment: 13\n",
      "pregnant             0.3466326928626648\n",
      "stream               0.3466326928626648\n",
      "hmmm                 0.32206154212785365\n",
      "faced                0.3161985553309461\n",
      "zero                 0.29839572613310034\n",
      "pig                  0.29162740459613495\n",
      "hold                 0.2857644177992274\n",
      "chance               0.2738245753982892\n",
      "looking              0.259652506193914\n",
      "women                0.2357350724372564\n",
      "thought              0.23235593020569015\n",
      "getting              0.2197246218718172\n",
      "\n",
      "\n",
      "\n",
      "Scores for comment: 14\n",
      "24                   0.40066452096079386\n",
      "math                 0.40066452096079386\n",
      "income               0.38527383519309866\n",
      "puts                 0.3789725677032502\n",
      "21                   0.3733358918583078\n",
      "huh                  0.3553349840531867\n",
      "spending             0.3481911961678598\n",
      "\n",
      "\n",
      "\n",
      "Scores for comment: 15\n",
      "negro                0.5018593055816001\n",
      "retarded             0.41709121906139934\n",
      "damn                 0.3970432475506194\n",
      "sound                0.393275414183543\n",
      "reason               0.38970089007152\n",
      "lol                  0.3316571676199919\n",
      "\n",
      "\n",
      "\n",
      "Scores for comment: 16\n",
      "screen               0.6677578940109922\n",
      "racist               0.5459984232876237\n",
      "nyou                 0.5059497176137503\n",
      "\n",
      "\n",
      "\n",
      "Scores for comment: 17\n",
      "cheating             0.3831105774247488\n",
      "fest                 0.3831105774247488\n",
      "cheat                0.3722819228558328\n",
      "cup                  0.35595368212943507\n",
      "dare                 0.32979739445760264\n",
      "shame                0.3223168087378635\n",
      "comment              0.24856308385846257\n",
      "oh                   0.24022357747847356\n",
      "post                 0.23594792998939906\n",
      "lol                  0.2309520966299293\n",
      "\n",
      "\n",
      "\n",
      "Scores for comment: 18\n",
      "dickhead             1.0\n",
      "\n",
      "\n",
      "\n",
      "Scores for comment: 19\n",
      "retard               0.6420313237061857\n",
      "head                 0.5742606299461356\n",
      "post                 0.5079571913793038\n",
      "\n",
      "\n"
     ]
    }
   ],
   "source": [
    "tf_idf_stats(train_comments)"
   ]
  },
  {
   "cell_type": "markdown",
   "metadata": {
    "pycharm": {
     "name": "#%% md\n"
    }
   },
   "source": [
    "## Pre-process comments"
   ]
  },
  {
   "cell_type": "code",
   "execution_count": 14,
   "metadata": {},
   "outputs": [
    {
     "name": "stderr",
     "output_type": "stream",
     "text": [
      "<ipython-input-1-e6d58d29dccd>:25: DeprecationWarning: invalid escape sequence '\\ '\n",
      "  comment = comment.encode('utf-8').decode('unicode-escape')\n"
     ]
    },
    {
     "name": "stdout",
     "output_type": "stream",
     "text": [
      "Number of Words: 67951\n",
      "Number of unique words: 15294\n",
      "[   ('like', 722),\n",
      "    ('...', 552),\n",
      "    ('people', 426),\n",
      "    ('get', 409),\n",
      "    ('would', 375),\n",
      "    ('one', 371),\n",
      "    ('know', 328),\n",
      "    ('think', 305),\n",
      "    ('fuck', 251),\n",
      "    ('right', 225),\n",
      "    ('time', 219),\n",
      "    ('....', 212),\n",
      "    ('make', 212),\n",
      "    ('good', 210),\n",
      "    ('see', 209),\n",
      "    ('really', 195),\n",
      "    ('back', 191),\n",
      "    ('even', 189),\n",
      "    ('say', 183),\n",
      "    ('way', 182)]\n"
     ]
    }
   ],
   "source": [
    "train_comments = train_comments.apply(lambda comment: preprocess_comment(comment))\n",
    "corpus_stats(train_comments)"
   ]
  },
  {
   "cell_type": "code",
   "execution_count": 15,
   "metadata": {},
   "outputs": [
    {
     "name": "stdout",
     "output_type": "stream",
     "text": [
      "\n",
      "Number of Features: 3682\n",
      "\n",
      "Scores for comment: 0\n",
      "dad                  0.8556854567153133\n",
      "fuck                 0.5174962793739737\n",
      "\n",
      "\n",
      "\n",
      "Scores for comment: 1\n",
      "oranges              0.5445066852844984\n",
      "apples               0.5332990769366469\n",
      "understand           0.3735486785429875\n",
      "point                0.35802065834828095\n",
      "really               0.300104678423663\n",
      "don                  0.2476375156592591\n",
      "\n",
      "\n",
      "\n",
      "Scores for comment: 2\n",
      "inadvertently        0.3093882858732369\n",
      "regard               0.3006433984365323\n",
      "canadians            0.2934983051454301\n",
      "damage               0.2934983051454301\n",
      "mail                 0.2874572148453\n",
      "perfect              0.2663342036718874\n",
      "daughter             0.25758931623518283\n",
      "majority             0.24631519548944691\n",
      "proof                0.24258003581733398\n",
      "son                  0.2360332673464672\n",
      "idea                 0.22552013195772022\n",
      "unless               0.22220636897468896\n",
      "kill                 0.21723903117040777\n",
      "sorry                0.2104062065791996\n",
      "wrong                0.20458969863859225\n",
      "like                 0.113616217558659\n",
      "\n",
      "\n",
      "\n",
      "Scores for comment: 3\n",
      "married              0.4526768951558829\n",
      "dont                 0.3255604709285814\n",
      "wasnt                0.2596032856418905\n",
      "quick                0.2522655756677412\n",
      "people               0.2374891238829603\n",
      "suppose              0.23293717451824505\n",
      "bother               0.22947256663658896\n",
      "judge                0.22347722104891554\n",
      "wanna                0.21613951107476623\n",
      "listen               0.2083662535265952\n",
      "stay                 0.19226826245944578\n",
      "nice                 0.17789120298661099\n",
      "women                0.17654883860013515\n",
      "thought              0.17341471954148763\n",
      "god                  0.1627802354642907\n",
      "let                  0.1561421978664708\n",
      "gay                  0.15509819395545876\n",
      "man                  0.14340379433386724\n",
      "got                  0.14222505303886993\n",
      "like                 0.09533374315444033\n",
      "\n",
      "\n",
      "\n",
      "Scores for comment: 4\n",
      "không                0.7220955827639618\n",
      "có                   0.5415716870729713\n",
      "khi                  0.18052389569099045\n",
      "ta                   0.18052389569099045\n",
      "được                 0.18052389569099045\n",
      "đầu                  0.18052389569099045\n",
      "sau                  0.17542137171210934\n",
      "2011                 0.1554024188954138\n",
      "\n",
      "\n",
      "\n",
      "Scores for comment: 5\n",
      "falls                0.3233014303221935\n",
      "sdl                  0.3233014303221935\n",
      "skills               0.314163286619327\n",
      "productive           0.3066968795629677\n",
      "contract             0.2900923288037419\n",
      "hurt                 0.25739195259789727\n",
      "sign                 0.25739195259789727\n",
      "chance               0.255393904575264\n",
      "playing              0.24992554554153795\n",
      "ok                   0.23447464462090847\n",
      "start                0.22153987853082308\n",
      "hope                 0.20272117443992987\n",
      "old                  0.20165742993059105\n",
      "year                 0.20165742993059105\n",
      "time                 0.1654134690353827\n",
      "\n",
      "\n",
      "\n",
      "Scores for comment: 6\n",
      "yeah                 1.0\n",
      "\n",
      "\n",
      "\n",
      "Scores for comment: 7\n",
      "burned               0.47334261598477556\n",
      "stake                0.4525818653134214\n",
      "faggot               0.3847961364266701\n",
      "friends              0.3569080986039406\n",
      "rest                 0.3569080986039406\n",
      "shut                 0.33378905211096066\n",
      "fuck                 0.23846686030961795\n",
      "\n",
      "\n",
      "\n",
      "Scores for comment: 8\n",
      "extremely            0.6287466263952122\n",
      "fake                 0.5196304771832563\n",
      "maybe                0.4445869947150357\n",
      "stupid               0.37014085306703653\n",
      "\n",
      "\n",
      "\n",
      "Scores for comment: 9\n",
      "health               0.6593542026161987\n",
      "women                0.5839627759110696\n",
      "idiot                0.473539345611951\n",
      "\n",
      "\n",
      "\n",
      "Scores for comment: 10\n",
      "injured              0.43529113195797065\n",
      "injury               0.42736685095683397\n",
      "looked               0.3941570366269384\n",
      "happened             0.37009513335719535\n",
      "doubt                0.35302294129590617\n",
      "wish                 0.35302294129590617\n",
      "dont                 0.29376629099056306\n",
      "\n",
      "\n",
      "\n",
      "Scores for comment: 11\n",
      "careful              1.0\n",
      "\n",
      "\n",
      "\n",
      "Scores for comment: 12\n",
      "attention            0.6701686571373742\n",
      "pay                  0.5596946483415167\n",
      "don                  0.36023165043797994\n",
      "just                 0.32840376007482597\n",
      "\n",
      "\n",
      "\n",
      "Scores for comment: 13\n",
      "pregnant             0.34790672285668545\n",
      "stream               0.34790672285668545\n",
      "faced                0.3173607262740003\n",
      "hmmm                 0.3173607262740003\n",
      "zero                 0.29949246372597293\n",
      "pig                  0.2926992655838147\n",
      "hold                 0.2816242011779455\n",
      "chance               0.27483100303578734\n",
      "looking              0.2606068451461396\n",
      "women                0.23660150413603065\n",
      "thought              0.23240132196945798\n",
      "getting              0.2199243561990862\n",
      "\n",
      "\n",
      "\n",
      "Scores for comment: 14\n",
      "24                   0.39955615860341753\n",
      "math                 0.39955615860341753\n",
      "income               0.39133207419890853\n",
      "puts                 0.37792421201776727\n",
      "21                   0.37230312896679696\n",
      "huh                  0.3543520172568279\n",
      "spending             0.3472279913049065\n",
      "\n",
      "\n",
      "\n",
      "Scores for comment: 15\n",
      "negro                0.5035626261187394\n",
      "retarded             0.4185068350146881\n",
      "damn                 0.3964749617018476\n",
      "sound                0.392793876853252\n",
      "reason               0.39102354269949313\n",
      "lol                  0.3269524043759824\n",
      "\n",
      "\n",
      "\n",
      "Scores for comment: 16\n",
      "screen               0.7753584994692642\n",
      "racist               0.6315213355863531\n",
      "\n",
      "\n",
      "\n",
      "Scores for comment: 17\n",
      "cheating             0.3835964665366246\n",
      "fest                 0.3835964665366246\n",
      "cheat                0.37275407826871576\n",
      "cup                  0.35640512886223313\n",
      "dare                 0.3344434894866884\n",
      "shame                0.3227255947050717\n",
      "comment              0.2481249923850661\n",
      "post                 0.2362471765696478\n",
      "oh                   0.23396019930984924\n",
      "lol                  0.22719355337216132\n",
      "\n",
      "\n",
      "\n",
      "Scores for comment: 18\n",
      "dickhead             1.0\n",
      "\n",
      "\n",
      "\n",
      "Scores for comment: 19\n",
      "retard               0.642896916296181\n",
      "head                 0.5726838975026152\n",
      "post                 0.5086420239796117\n",
      "\n",
      "\n"
     ]
    }
   ],
   "source": [
    "tf_idf_stats(train_comments)"
   ]
  },
  {
   "cell_type": "code",
   "execution_count": 16,
   "metadata": {
    "pycharm": {
     "name": "#%%\n"
    }
   },
   "outputs": [
    {
     "name": "stderr",
     "output_type": "stream",
     "text": [
      "<ipython-input-1-e6d58d29dccd>:25: DeprecationWarning: invalid escape sequence '\\ '\n",
      "  comment = comment.encode('utf-8').decode('unicode-escape')\n",
      "<ipython-input-1-e6d58d29dccd>:25: DeprecationWarning: invalid escape sequence '\\p'\n",
      "  comment = comment.encode('utf-8').decode('unicode-escape')\n",
      "<ipython-input-1-e6d58d29dccd>:25: DeprecationWarning: invalid escape sequence '\\/'\n",
      "  comment = comment.encode('utf-8').decode('unicode-escape')\n"
     ]
    }
   ],
   "source": [
    "test_comments = test_comments.apply(lambda comment: preprocess_comment(comment))"
   ]
  },
  {
   "cell_type": "code",
   "execution_count": 17,
   "metadata": {},
   "outputs": [
    {
     "name": "stdout",
     "output_type": "stream",
     "text": [
      "3947 2647\n"
     ]
    }
   ],
   "source": [
    "print(len(train_comments), len(test_comments))"
   ]
  },
  {
   "cell_type": "markdown",
   "metadata": {},
   "source": [
    "## Replace Insults\n",
    "\n",
    "We are going to replace any appearance of an insult with a 'fakeinsult' keyword. The intention of this is to concentrate the frequency of any insult into the same token"
   ]
  },
  {
   "cell_type": "code",
   "execution_count": 18,
   "metadata": {
    "pycharm": {
     "name": "#%%\n"
    }
   },
   "outputs": [
    {
     "name": "stdout",
     "output_type": "stream",
     "text": [
      "Number of Words: 68944\n",
      "Number of unique words: 14893\n",
      "[   ('fakeinsult', 3526),\n",
      "    ('like', 722),\n",
      "    ('...', 552),\n",
      "    ('people', 426),\n",
      "    ('get', 409),\n",
      "    ('would', 375),\n",
      "    ('one', 371),\n",
      "    ('know', 328),\n",
      "    ('think', 305),\n",
      "    ('right', 225),\n",
      "    ('time', 219),\n",
      "    ('ing', 219),\n",
      "    ('....', 212),\n",
      "    ('make', 212),\n",
      "    ('good', 210),\n",
      "    ('see', 209),\n",
      "    ('really', 195),\n",
      "    ('back', 191),\n",
      "    ('even', 189),\n",
      "    ('say', 183)]\n"
     ]
    }
   ],
   "source": [
    "from feature_extraction import replace_badwords\n",
    "\n",
    "train_comments = train_comments.apply(lambda comment: replace_badwords(comment, badwords))\n",
    "test_comments = test_comments.apply(lambda comment: replace_badwords(comment, badwords))\n",
    "\n",
    "corpus_stats(train_comments)"
   ]
  },
  {
   "cell_type": "markdown",
   "metadata": {},
   "source": [
    "**Let's check which percentage of comments of each class contains an insult**"
   ]
  },
  {
   "cell_type": "code",
   "execution_count": 19,
   "metadata": {
    "pycharm": {
     "name": "#%%\n"
    }
   },
   "outputs": [
    {
     "data": {
      "text/plain": [
       "0    0.563824\n",
       "1    0.436176\n",
       "Name: Insult, dtype: float64"
      ]
     },
     "execution_count": 19,
     "metadata": {},
     "output_type": "execute_result"
    }
   ],
   "source": [
    "train_df['Comment'] = train_comments\n",
    "train_df[train_df['Comment'].str.contains('fakeinsult')]['Insult'].value_counts(normalize=True)"
   ]
  },
  {
   "cell_type": "markdown",
   "metadata": {},
   "source": []
  },
  {
   "cell_type": "markdown",
   "metadata": {},
   "source": [
    "# A First Attempt. Naive Classifier using insult presence\n",
    "\n",
    "As baseline, we are going to use a naive classifier which will classify a comment as offensive if the comment contains an insult keyword"
   ]
  },
  {
   "cell_type": "code",
   "execution_count": 20,
   "metadata": {},
   "outputs": [
    {
     "name": "stdout",
     "output_type": "stream",
     "text": [
      "\n",
      "Naive Model Result\n",
      "\n",
      "Accuracy: 0.6720816018133736\n",
      "\n",
      "              precision    recall  f1-score   support\n",
      "\n",
      "    NoInsult       0.88      0.64      0.74      1954\n",
      "      Insult       0.43      0.76      0.55       693\n",
      "\n",
      "    accuracy                           0.67      2647\n",
      "   macro avg       0.65      0.70      0.65      2647\n",
      "weighted avg       0.76      0.67      0.69      2647\n",
      "\n"
     ]
    },
    {
     "data": {
      "image/png": "[encoded data removed]",
      "text/plain": [
       "<Figure size 432x288 with 2 Axes>"
      ]
     },
     "metadata": {
      "needs_background": "light"
     },
     "output_type": "display_data"
    }
   ],
   "source": [
    "from sklearn.metrics import plot_confusion_matrix\n",
    "from sklearn.base import is_classifier\n",
    "from training import NaiveClassifier\n",
    "naive_classifier = NaiveClassifier(badwords)\n",
    "naive_predictions = naive_classifier.predict(test_comments)\n",
    "print(\"\\nNaive Model Result\\n\")\n",
    "predictions_report(naive_predictions, test_labels)\n",
    "plot_confusion_matrix(naive_classifier, test_comments, test_labels, display_labels=[NO_INSULT, INSULT])\n",
    "plt.show()"
   ]
  },
  {
   "cell_type": "markdown",
   "metadata": {},
   "source": [
    "As suspected from the outcome of the previous section, there is a huge number of false positives (35,7%) for NoInsult class as many comments containing insults keywords are not really offenses to a particular user. We will need to work that out in the following approaches"
   ]
  },
  {
   "cell_type": "markdown",
   "metadata": {},
   "source": [
    "# A Simple TF-IDF based classifier"
   ]
  },
  {
   "cell_type": "code",
   "execution_count": 21,
   "metadata": {},
   "outputs": [
    {
     "name": "stdout",
     "output_type": "stream",
     "text": [
      "\n",
      "TF-IDF Model Result\n",
      "\n",
      "Accuracy: 0.8413298073290517\n",
      "\n",
      "              precision    recall  f1-score   support\n",
      "\n",
      "    NoInsult       0.83      0.98      0.90      1954\n",
      "      Insult       0.90      0.44      0.59       693\n",
      "\n",
      "    accuracy                           0.84      2647\n",
      "   macro avg       0.87      0.71      0.75      2647\n",
      "weighted avg       0.85      0.84      0.82      2647\n",
      "\n"
     ]
    },
    {
     "data": {
      "image/png": "[encoded data removed]",
      "text/plain": [
       "<Figure size 432x288 with 2 Axes>"
      ]
     },
     "metadata": {
      "needs_background": "light"
     },
     "output_type": "display_data"
    }
   ],
   "source": [
    "from training import train_tfidf\n",
    "tf_idf_classifier = train_tfidf(train_comments, train_labels)\n",
    "predictions = tf_idf_classifier.predict(test_comments)\n",
    "print(\"\\nTF-IDF Model Result\\n\")\n",
    "predictions_report(predictions, test_labels)\n",
    "plot_confusion_matrix(tf_idf_classifier, test_comments, test_labels, display_labels=[NO_INSULT, INSULT])\n",
    "plt.show()"
   ]
  },
  {
   "cell_type": "markdown",
   "metadata": {},
   "source": [
    "Using a simple TF-IDF based classifier (using stochastic gradient descent estimator) improves the global accuracy a lot and, in particular, the model seems to fix the NoInsult category prediction. But now we have more than 50% of false negatives for Insult category.\n",
    "\n",
    "## Working with unbalanced training sets\n",
    "\n",
    "Following https://scikit-learn.org/stable/auto_examples/svm/plot_separating_hyperplane_unbalanced.html we are going to try to tweak the SGD classifier by assigning different weights to each class. Most of the models in scikit-learn have a parameter class_weight. This parameter will affect the computation of the loss in linear model or the criterion in the tree-based model to penalize differently a false classification from the minority and majority class."
   ]
  },
  {
   "cell_type": "code",
   "execution_count": 22,
   "metadata": {},
   "outputs": [
    {
     "name": "stdout",
     "output_type": "stream",
     "text": [
      "\n",
      "TF-IDF Model Result\n",
      "\n",
      "Accuracy: 0.8367963732527389\n",
      "\n",
      "              precision    recall  f1-score   support\n",
      "\n",
      "    NoInsult       0.89      0.89      0.89      1954\n",
      "      Insult       0.69      0.70      0.69       693\n",
      "\n",
      "    accuracy                           0.84      2647\n",
      "   macro avg       0.79      0.79      0.79      2647\n",
      "weighted avg       0.84      0.84      0.84      2647\n",
      "\n"
     ]
    },
    {
     "data": {
      "image/png": "[encoded data removed]",
      "text/plain": [
       "<Figure size 432x288 with 2 Axes>"
      ]
     },
     "metadata": {
      "needs_background": "light"
     },
     "output_type": "display_data"
    }
   ],
   "source": [
    "tf_idf_classifier = train_tfidf(train_comments, train_labels, class_weight={0: 1, 1: 2})\n",
    "predictions = tf_idf_classifier.predict(test_comments)\n",
    "print(\"\\nTF-IDF Model Result\\n\")\n",
    "predictions_report(predictions, test_labels)\n",
    "plot_confusion_matrix(tf_idf_classifier, test_comments, test_labels, display_labels=[NO_INSULT, INSULT])\n",
    "plt.show()"
   ]
  },
  {
   "cell_type": "markdown",
   "metadata": {},
   "source": [
    "# A Custom Classifier\n",
    "\n",
    "We can continue playing with the class weights and other classifier's parameters, but eventually we will realize that we need to capture more semantics of the problem in the shape of features. We need specific features to capture when a comment is being offensive for another user.\n",
    "\n",
    "### A grammar to detect insults to another user"
   ]
  },
  {
   "cell_type": "code",
   "execution_count": 23,
   "metadata": {},
   "outputs": [
    {
     "name": "stderr",
     "output_type": "stream",
     "text": [
      "<ipython-input-23-be54043d5dc4>:1: FutureWarning: Passing a negative integer is deprecated in version 1.0 and will not be supported in future version. Instead, use None to not limit the column width.\n",
      "  pd.set_option('display.max_colwidth', -1)\n"
     ]
    },
    {
     "data": {
      "text/html": [
       "<div>\n",
       "<style scoped>\n",
       "    .dataframe tbody tr th:only-of-type {\n",
       "        vertical-align: middle;\n",
       "    }\n",
       "\n",
       "    .dataframe tbody tr th {\n",
       "        vertical-align: top;\n",
       "    }\n",
       "\n",
       "    .dataframe thead th {\n",
       "        text-align: right;\n",
       "    }\n",
       "</style>\n",
       "<table border=\"1\" class=\"dataframe\">\n",
       "  <thead>\n",
       "    <tr style=\"text-align: right;\">\n",
       "      <th></th>\n",
       "      <th>Insult</th>\n",
       "      <th>Date</th>\n",
       "      <th>Comment</th>\n",
       "    </tr>\n",
       "  </thead>\n",
       "  <tbody>\n",
       "    <tr>\n",
       "      <th>0</th>\n",
       "      <td>1</td>\n",
       "      <td>20120618192155Z</td>\n",
       "      <td>you  fakeinsult  your dad.</td>\n",
       "    </tr>\n",
       "    <tr>\n",
       "      <th>7</th>\n",
       "      <td>1</td>\n",
       "      <td>NaN</td>\n",
       "      <td>shut the  fakeinsult  up. you and the rest of your  fakeinsult got friends should be burned at the stake</td>\n",
       "    </tr>\n",
       "    <tr>\n",
       "      <th>8</th>\n",
       "      <td>1</td>\n",
       "      <td>20120502173553Z</td>\n",
       "      <td>either you are fake or extremely  fakeinsult ...maybe both...</td>\n",
       "    </tr>\n",
       "    <tr>\n",
       "      <th>9</th>\n",
       "      <td>1</td>\n",
       "      <td>20120620160512Z</td>\n",
       "      <td>that you are an  fakeinsult  who understands neither taxation nor women's health.</td>\n",
       "    </tr>\n",
       "    <tr>\n",
       "      <th>15</th>\n",
       "      <td>1</td>\n",
       "      <td>20120611090207Z</td>\n",
       "      <td>for some reason u sound  fakeinsult ed. lol.  fakeinsult . where u been negro</td>\n",
       "    </tr>\n",
       "    <tr>\n",
       "      <th>16</th>\n",
       "      <td>1</td>\n",
       "      <td>20120320162532Z</td>\n",
       "      <td>you with the 'racist' screen name  you are a pieceof fakeinsult ..........</td>\n",
       "    </tr>\n",
       "    <tr>\n",
       "      <th>18</th>\n",
       "      <td>1</td>\n",
       "      <td>20120320075347Z</td>\n",
       "      <td>your such a  fakeinsult head...</td>\n",
       "    </tr>\n",
       "    <tr>\n",
       "      <th>19</th>\n",
       "      <td>1</td>\n",
       "      <td>20120320203947Z</td>\n",
       "      <td>your a  fakeinsult  go post your head up your #%&amp;*</td>\n",
       "    </tr>\n",
       "    <tr>\n",
       "      <th>34</th>\n",
       "      <td>1</td>\n",
       "      <td>20120515132156Z</td>\n",
       "      <td>allinit123, your hypocrisy is sickening, you ignorant  fakeinsult .</td>\n",
       "    </tr>\n",
       "    <tr>\n",
       "      <th>37</th>\n",
       "      <td>1</td>\n",
       "      <td>20120620161958Z</td>\n",
       "      <td>i can't believe the  fakeinsult  people on this site that have no idea what is going on.  you  fakeinsult s.  you are all useful  fakeinsult s.  they are hiding the truth because you  fakeinsult s who protect him would look like the useful  fakeinsult s you are.</td>\n",
       "    </tr>\n",
       "    <tr>\n",
       "      <th>38</th>\n",
       "      <td>1</td>\n",
       "      <td>20120609163743Z</td>\n",
       "      <td>fakeinsult ing behave then you  fakeinsult !</td>\n",
       "    </tr>\n",
       "    <tr>\n",
       "      <th>41</th>\n",
       "      <td>1</td>\n",
       "      <td>20120620075045Z</td>\n",
       "      <td>is that it??  your sum total to any conversation is first abuse and then calling them a troll..   you are a typical socialist  fakeinsult .  keep up your non existent cl fakeinsult  warfare, it is as pointless as you.</td>\n",
       "    </tr>\n",
       "    <tr>\n",
       "      <th>45</th>\n",
       "      <td>1</td>\n",
       "      <td>20120619074710Z</td>\n",
       "      <td>fakeinsult got</td>\n",
       "    </tr>\n",
       "    <tr>\n",
       "      <th>47</th>\n",
       "      <td>1</td>\n",
       "      <td>20120529130844Z</td>\n",
       "      <td>aimless abe you are a delusion  fakeinsult  that should be locked up inside and kept away from computers.  anyone who doubts the lunacy of abe the  fakeinsult ic prog frog from nyc please read this thread and you will see abe completely come apart from the seams and go off the deep end.</td>\n",
       "    </tr>\n",
       "    <tr>\n",
       "      <th>51</th>\n",
       "      <td>1</td>\n",
       "      <td>20120320131007Z</td>\n",
       "      <td>even as a troll you are a pathetic failure.</td>\n",
       "    </tr>\n",
       "    <tr>\n",
       "      <th>55</th>\n",
       "      <td>1</td>\n",
       "      <td>20120502173058Z</td>\n",
       "      <td>you're a  fakeinsult , truth is beyond your reach</td>\n",
       "    </tr>\n",
       "    <tr>\n",
       "      <th>59</th>\n",
       "      <td>1</td>\n",
       "      <td>20120619203151Z</td>\n",
       "      <td>your anti-semitic rants are not welcomed here. you are a racist  fakeinsult . fu!</td>\n",
       "    </tr>\n",
       "    <tr>\n",
       "      <th>61</th>\n",
       "      <td>1</td>\n",
       "      <td>20120619033424Z</td>\n",
       "      <td>god, you're tiresome. get a life, you  fakeinsult .</td>\n",
       "    </tr>\n",
       "    <tr>\n",
       "      <th>79</th>\n",
       "      <td>1</td>\n",
       "      <td>20120619194023Z</td>\n",
       "      <td>fact : georgia p fakeinsult ed a strict immigration policy and most of the latino farm workers left the area. vidalia georgia now has over 3000 agriculture job openings and they have been able to fill about 250 of them in past year. all you white real americans who are looking for work that the latinos stole from you..where are you ? the jobs are i vadalia just waiting for you..or maybe its the fact that you would rather collect unemployment like the rest of the tea klaners.. you scream..you complain..and you sit at home in your wife beaters and drink beer..typical real white tea klan....</td>\n",
       "    </tr>\n",
       "    <tr>\n",
       "      <th>80</th>\n",
       "      <td>1</td>\n",
       "      <td>20120530000452Z</td>\n",
       "      <td>of course you would bottom feeder ...</td>\n",
       "    </tr>\n",
       "  </tbody>\n",
       "</table>\n",
       "</div>"
      ],
      "text/plain": [
       "    Insult             Date  \\\n",
       "0   1       20120618192155Z   \n",
       "7   1       NaN               \n",
       "8   1       20120502173553Z   \n",
       "9   1       20120620160512Z   \n",
       "15  1       20120611090207Z   \n",
       "16  1       20120320162532Z   \n",
       "18  1       20120320075347Z   \n",
       "19  1       20120320203947Z   \n",
       "34  1       20120515132156Z   \n",
       "37  1       20120620161958Z   \n",
       "38  1       20120609163743Z   \n",
       "41  1       20120620075045Z   \n",
       "45  1       20120619074710Z   \n",
       "47  1       20120529130844Z   \n",
       "51  1       20120320131007Z   \n",
       "55  1       20120502173058Z   \n",
       "59  1       20120619203151Z   \n",
       "61  1       20120619033424Z   \n",
       "79  1       20120619194023Z   \n",
       "80  1       20120530000452Z   \n",
       "\n",
       "                                                                                                                                                                                                                                                                                                                                                                                                                                                                                                                                                                                                                Comment  \n",
       "0   you  fakeinsult  your dad.                                                                                                                                                                                                                                                                                                                                                                                                                                                                                                                                                                                           \n",
       "7   shut the  fakeinsult  up. you and the rest of your  fakeinsult got friends should be burned at the stake                                                                                                                                                                                                                                                                                                                                                                                                                                                                                                             \n",
       "8   either you are fake or extremely  fakeinsult ...maybe both...                                                                                                                                                                                                                                                                                                                                                                                                                                                                                                                                                        \n",
       "9   that you are an  fakeinsult  who understands neither taxation nor women's health.                                                                                                                                                                                                                                                                                                                                                                                                                                                                                                                                    \n",
       "15  for some reason u sound  fakeinsult ed. lol.  fakeinsult . where u been negro                                                                                                                                                                                                                                                                                                                                                                                                                                                                                                                                        \n",
       "16  you with the 'racist' screen name  you are a pieceof fakeinsult ..........                                                                                                                                                                                                                                                                                                                                                                                                                                                                                                                                           \n",
       "18  your such a  fakeinsult head...                                                                                                                                                                                                                                                                                                                                                                                                                                                                                                                                                                                      \n",
       "19  your a  fakeinsult  go post your head up your #%&*                                                                                                                                                                                                                                                                                                                                                                                                                                                                                                                                                                   \n",
       "34  allinit123, your hypocrisy is sickening, you ignorant  fakeinsult .                                                                                                                                                                                                                                                                                                                                                                                                                                                                                                                                                  \n",
       "37  i can't believe the  fakeinsult  people on this site that have no idea what is going on.  you  fakeinsult s.  you are all useful  fakeinsult s.  they are hiding the truth because you  fakeinsult s who protect him would look like the useful  fakeinsult s you are.                                                                                                                                                                                                                                                                                                                                               \n",
       "38   fakeinsult ing behave then you  fakeinsult !                                                                                                                                                                                                                                                                                                                                                                                                                                                                                                                                                                        \n",
       "41  is that it??  your sum total to any conversation is first abuse and then calling them a troll..   you are a typical socialist  fakeinsult .  keep up your non existent cl fakeinsult  warfare, it is as pointless as you.                                                                                                                                                                                                                                                                                                                                                                                            \n",
       "45   fakeinsult got                                                                                                                                                                                                                                                                                                                                                                                                                                                                                                                                                                                                      \n",
       "47  aimless abe you are a delusion  fakeinsult  that should be locked up inside and kept away from computers.  anyone who doubts the lunacy of abe the  fakeinsult ic prog frog from nyc please read this thread and you will see abe completely come apart from the seams and go off the deep end.                                                                                                                                                                                                                                                                                                                      \n",
       "51  even as a troll you are a pathetic failure.                                                                                                                                                                                                                                                                                                                                                                                                                                                                                                                                                                          \n",
       "55  you're a  fakeinsult , truth is beyond your reach                                                                                                                                                                                                                                                                                                                                                                                                                                                                                                                                                                    \n",
       "59  your anti-semitic rants are not welcomed here. you are a racist  fakeinsult . fu!                                                                                                                                                                                                                                                                                                                                                                                                                                                                                                                                    \n",
       "61  god, you're tiresome. get a life, you  fakeinsult .                                                                                                                                                                                                                                                                                                                                                                                                                                                                                                                                                                  \n",
       "79  fact : georgia p fakeinsult ed a strict immigration policy and most of the latino farm workers left the area. vidalia georgia now has over 3000 agriculture job openings and they have been able to fill about 250 of them in past year. all you white real americans who are looking for work that the latinos stole from you..where are you ? the jobs are i vadalia just waiting for you..or maybe its the fact that you would rather collect unemployment like the rest of the tea klaners.. you scream..you complain..and you sit at home in your wife beaters and drink beer..typical real white tea klan....  \n",
       "80  of course you would bottom feeder ...                                                                                                                                                                                                                                                                                                                                                                                                                                                                                                                                                                                "
      ]
     },
     "execution_count": 23,
     "metadata": {},
     "output_type": "execute_result"
    }
   ],
   "source": [
    "pd.set_option('display.max_colwidth', -1)\n",
    "train_df[train_df['Insult'] == 1].head(20)"
   ]
  },
  {
   "cell_type": "code",
   "execution_count": 24,
   "metadata": {},
   "outputs": [
    {
     "name": "stdout",
     "output_type": "stream",
     "text": [
      "7732708342930407699 insult1 1 7 you are fake or extremely fakeinsult\n",
      "15011685821042383993 insult2 0 5 your such a  fakeinsult\n"
     ]
    }
   ],
   "source": [
    "import spacy\n",
    "from spacy.matcher import Matcher\n",
    "\n",
    "nlp = spacy.load(\"en_core_web_sm\")\n",
    "matcher = Matcher(nlp.vocab)\n",
    "\n",
    "pattern1 = [{\"LEMMA\": \"-PRON-\", \"LOWER\": {\"IN\": [\"you\", \"your\"]}},\n",
    "            {\"LEMMA\": {\"IN\": [\"be\", \"sound\"]}},{\"OP\": \"*\", \"LENGTH\": {\"<=\": 10}},\n",
    "            {\"LOWER\": \"fakeinsult\"}]\n",
    "matcher.add(\"insult1\", None, pattern1)\n",
    "\n",
    "pattern2 = [{\"LEMMA\": \"-PRON-\", \"LOWER\": {\"IN\": [\"you\", \"your\"]}},\n",
    "            {\"OP\": \"*\", \"LENGTH\": {\"<=\": 4}},\n",
    "            {\"LOWER\": \"fakeinsult\"}]\n",
    "matcher.add(\"insult2\", None, pattern2)\n",
    "\n",
    "doc = nlp(\"Either you are fake or extremely fakeinsult...maybe both...\")\n",
    "matches = matcher(doc)\n",
    "for match_id, start, end in matches:\n",
    "    string_id = nlp.vocab.strings[match_id]  # Get string representation\n",
    "    span = doc[start:end]  # The matched span\n",
    "    print(match_id, string_id, start, end, span.text)\n",
    "    \n",
    "doc = nlp(\"your such a  fakeinsult head...\")\n",
    "matches = matcher(doc)\n",
    "for match_id, start, end in matches:\n",
    "    string_id = nlp.vocab.strings[match_id]  # Get string representation\n",
    "    span = doc[start:end]  # The matched span\n",
    "    print(match_id, string_id, start, end, span.text)\n"
   ]
  },
  {
   "cell_type": "code",
   "execution_count": 25,
   "metadata": {},
   "outputs": [
    {
     "name": "stdout",
     "output_type": "stream",
     "text": [
      "Total offensive comments 1049\n",
      "Total with pattern 463\n"
     ]
    }
   ],
   "source": [
    "insults = train_df[train_df['Insult'] == 1]['Comment']\n",
    "total_matches = 0\n",
    "for insult in insults:\n",
    "    doc = nlp(insult)\n",
    "    matches = matcher(doc)\n",
    "    if len(matches) > 0:\n",
    "        total_matches += 1\n",
    "        \n",
    "print(\"Total offensive comments %d\" % len(insults))\n",
    "print(\"Total with pattern %d\" % total_matches)"
   ]
  },
  {
   "cell_type": "markdown",
   "metadata": {},
   "source": [
    "### Custom Features\n",
    "\n",
    "- **n_words**: total number of words (tokens) in the comment\n",
    "- **n_chars**: total number of characters in the comment\n",
    "- **n_dwords**: total number of words in the comment that appears in an English dictionary\n",
    "- **you_re**: number of insults patterns matches found in the comment\n",
    "- **!**: number of exclamation symbols\n",
    "- **allcaps**: number of uppercase characters\n",
    "- **@**: number of 'addressing' symbols\n",
    "- **bad_ratio**: ratio of insults used in the comment\n",
    "- **n_bad**: number of insults in the comment\n",
    "- **capsratio**: ratio of uppercased characters\n",
    "- **dicratio**: ratio of dictionary words in the comment\n",
    "- **sent**: lexicon sentiment score\n"
   ]
  },
  {
   "cell_type": "code",
   "execution_count": 26,
   "metadata": {},
   "outputs": [
    {
     "name": "stdout",
     "output_type": "stream",
     "text": [
      "\n",
      "Custom Model Result\n",
      "\n",
      "Accuracy: 0.8160181337363053\n",
      "\n",
      "              precision    recall  f1-score   support\n",
      "\n",
      "    NoInsult       0.82      0.95      0.88      1954\n",
      "      Insult       0.77      0.43      0.55       693\n",
      "\n",
      "    accuracy                           0.82      2647\n",
      "   macro avg       0.80      0.69      0.72      2647\n",
      "weighted avg       0.81      0.82      0.80      2647\n",
      "\n"
     ]
    },
    {
     "data": {
      "image/png": "[encoded data removed]",
      "text/plain": [
       "<Figure size 432x288 with 2 Axes>"
      ]
     },
     "metadata": {
      "needs_background": "light"
     },
     "output_type": "display_data"
    }
   ],
   "source": [
    "from training import train_custom\n",
    "custom_classifier = train_custom(train_comments, train_labels)\n",
    "predictions = custom_classifier.predict(test_comments)\n",
    "print(\"\\nCustom Model Result\\n\")\n",
    "predictions_report(predictions, test_labels)\n",
    "plot_confusion_matrix(custom_classifier, test_comments, test_labels, display_labels=[NO_INSULT, INSULT])\n",
    "plt.show()"
   ]
  },
  {
   "cell_type": "markdown",
   "metadata": {},
   "source": [
    "# Ensemble Voting Classifier\n",
    "\n",
    "The goal of ensemble methods is to combine the predictions of several base estimators built with a given learning algorithm in order to improve generalizability / robustness over a single estimator.\n",
    "\n",
    "We are going to combine the TF-IDF classifier and the custom classifier using a majority vote classifier. Most of the ensemble methods build several instances of a black-box estimator on random subsets of the original training set and then aggregate their individual predictions to form a final prediction. In this case, we need to combine estimators of different nature. Sklearn [Voting classifier](https://scikit-learn.org/stable/modules/ensemble.html#voting-classifier) can help in this situation. The idea behind the VotingClassifier is to combine conceptually different machine learning classifiers and use a majority vote or the average predicted probabilities (soft vote) to predict the class labels. Such a classifier can be useful for a set of equally well performing model in order to balance out their individual weaknesses."
   ]
  },
  {
   "cell_type": "code",
   "execution_count": 27,
   "metadata": {},
   "outputs": [
    {
     "name": "stdout",
     "output_type": "stream",
     "text": [
      "\n",
      "Majority Vote Model Result\n",
      "\n",
      "Accuracy: 0.8209293539856442\n",
      "\n",
      "              precision    recall  f1-score   support\n",
      "\n",
      "    NoInsult       0.84      0.94      0.89      1954\n",
      "      Insult       0.73      0.50      0.59       693\n",
      "\n",
      "    accuracy                           0.82      2647\n",
      "   macro avg       0.79      0.72      0.74      2647\n",
      "weighted avg       0.81      0.82      0.81      2647\n",
      "\n"
     ]
    },
    {
     "data": {
      "image/png": "[encoded data removed]",
      "text/plain": [
       "<Figure size 432x288 with 2 Axes>"
      ]
     },
     "metadata": {
      "needs_background": "light"
     },
     "output_type": "display_data"
    }
   ],
   "source": [
    "from training import train_assembling_voting\n",
    "voting_classifier = train_assembling_voting(train_comments, train_labels)\n",
    "predictions = voting_classifier.predict_proba(test_comments)\n",
    "print(\"\\nMajority Vote Model Result\\n\")\n",
    "predictions_report_proba(predictions, test_labels)\n",
    "plot_confusion_matrix(voting_classifier, test_comments, test_labels, display_labels=[NO_INSULT, INSULT])\n",
    "plt.show()"
   ]
  },
  {
   "cell_type": "markdown",
   "metadata": {},
   "source": [
    "# Feature Union\n",
    "\n",
    "To finish with classic estimators based solutions, we are going to make a final attempt by merging the features for both classifiers making use of sklearn [FeatureUnion](https://scikit-learn.org/stable/modules/generated/sklearn.pipeline.FeatureUnion.html). This estimator applies a list of transformer objects in parallel to the input data, then concatenates the results. This is useful to combine several feature extraction mechanisms into a single transformer."
   ]
  },
  {
   "cell_type": "code",
   "execution_count": 28,
   "metadata": {},
   "outputs": [
    {
     "name": "stdout",
     "output_type": "stream",
     "text": [
      "\n",
      "Feature Union Model Result\n",
      "\n",
      "Accuracy: 0.8466188137514167\n",
      "\n",
      "              precision    recall  f1-score   support\n",
      "\n",
      "    NoInsult       0.86      0.95      0.90      1954\n",
      "      Insult       0.79      0.56      0.66       693\n",
      "\n",
      "    accuracy                           0.85      2647\n",
      "   macro avg       0.83      0.75      0.78      2647\n",
      "weighted avg       0.84      0.85      0.84      2647\n",
      "\n"
     ]
    },
    {
     "data": {
      "image/png": "[encoded data removed]",
      "text/plain": [
       "<Figure size 432x288 with 2 Axes>"
      ]
     },
     "metadata": {
      "needs_background": "light"
     },
     "output_type": "display_data"
    }
   ],
   "source": [
    "from training import train_feature_union\n",
    "fu_classifier = train_feature_union(train_comments, train_labels)\n",
    "predictions = fu_classifier.predict(test_comments)\n",
    "print(\"\\nFeature Union Model Result\\n\")\n",
    "predictions_report(predictions, test_labels)\n",
    "plot_confusion_matrix(fu_classifier, test_comments, test_labels, display_labels=[NO_INSULT, INSULT])\n",
    "plt.show()"
   ]
  },
  {
   "cell_type": "markdown",
   "metadata": {},
   "source": [
    "# Word Embeddings"
   ]
  },
  {
   "cell_type": "markdown",
   "metadata": {},
   "source": [
    "Word Embedding is the collective name for feature learning techniques where words from the vocabulary are mapped to vectors of real numbers. These vectors are calculated from the probability distribution for each word appearing before or after another. To put it another way, words of the same context usually appear together in the corpus, so they will be close in the vector space as well."
   ]
  },
  {
   "cell_type": "code",
   "execution_count": 29,
   "metadata": {},
   "outputs": [],
   "source": [
    "import gensim\n",
    "from feature_extraction import word2vec_model, tokenize_document\n",
    "raw_tokenized_corpus = [tokenize_document(comment) for comment in raw_train_comments]\n",
    "dim = 300\n",
    "max_len = 15\n",
    "raw_w2v_model = word2vec_model(raw_tokenized_corpus, n_dim=dim)"
   ]
  },
  {
   "cell_type": "code",
   "execution_count": 30,
   "metadata": {},
   "outputs": [
    {
     "name": "stdout",
     "output_type": "stream",
     "text": [
      "0.99965227\n",
      "[('being', 0.9999071955680847), ('too', 0.9999014735221863), ('someone', 0.9999005794525146), ('....', 0.9999004006385803), ('stop', 0.9998997449874878), ('dont', 0.9998990893363953), ('mean', 0.9998983144760132), ('little', 0.9998980760574341), ('should', 0.9998977184295654), ('make', 0.9998974800109863), ('still', 0.9998961687088013), ('bitch', 0.9998961687088013), ('point', 0.9998945593833923), ('ass', 0.9998944997787476), ('any', 0.999894380569458), ('yourself', 0.9998937845230103), ('going', 0.9998934268951416), ('better', 0.9998930096626282), ('give', 0.9998929500579834), ('never', 0.9998925924301147)]\n"
     ]
    }
   ],
   "source": [
    "print(raw_w2v_model.wv.similarity('retarded', 'loser'))\n",
    "print(raw_w2v_model.wv.most_similar('retarded', topn=20))"
   ]
  },
  {
   "cell_type": "code",
   "execution_count": 31,
   "metadata": {},
   "outputs": [
    {
     "data": {
      "text/plain": [
       "[('know', 0.999808669090271),\n",
       " ('are', 0.9997797012329102),\n",
       " ('don', 0.9997004270553589),\n",
       " ('ing', 0.9995821118354797),\n",
       " ('like', 0.9995772838592529),\n",
       " ('your', 0.9995105266571045),\n",
       " ('what', 0.9994930624961853),\n",
       " ('just', 0.9994739890098572),\n",
       " ('understand', 0.9993782043457031),\n",
       " ('can', 0.9993021488189697),\n",
       " ('how', 0.9992895722389221),\n",
       " ('think', 0.9992784261703491),\n",
       " ('people', 0.9992203712463379),\n",
       " ('and', 0.9992198944091797),\n",
       " ('because', 0.9992059469223022),\n",
       " ('get', 0.9992001056671143),\n",
       " ('you', 0.9991925954818726),\n",
       " ('really', 0.9991372227668762),\n",
       " ('they', 0.9991272687911987),\n",
       " ('that', 0.9991147518157959)]"
      ]
     },
     "execution_count": 31,
     "metadata": {},
     "output_type": "execute_result"
    }
   ],
   "source": [
    "tokenized_corpus = [tokenize_document(comment) for comment in train_comments]\n",
    "test_tokenized_corpus = [tokenize_document(comment) for comment in test_comments]\n",
    "w2v_model = word2vec_model(tokenized_corpus, n_dim=dim)\n",
    "w2v_model.wv.most_similar('fakeinsult', topn=20)"
   ]
  },
  {
   "cell_type": "code",
   "execution_count": 32,
   "metadata": {},
   "outputs": [],
   "source": [
    "# Repeat the process for test corpus\n",
    "test_raw_tokenized_corpus = [tokenize_document(comment) for comment in raw_test_comments]"
   ]
  },
  {
   "cell_type": "markdown",
   "metadata": {},
   "source": [
    "## Word2Vec based classifier with Keras"
   ]
  },
  {
   "cell_type": "code",
   "execution_count": 42,
   "metadata": {},
   "outputs": [],
   "source": [
    "## tokenize text for Keras network\n",
    "import tensorflow as tf\n",
    "ktokenizer = tf.keras.preprocessing.text.Tokenizer(lower=True, split=' ', \n",
    "                     oov_token=\"NaN\", \n",
    "                     filters='!\"#$%&()*+,-./:;<=>?@[\\\\]^_`{|}~\\t\\n')\n",
    "ktokenizer.fit_on_texts(raw_tokenized_corpus)\n",
    "dic_vocabulary = ktokenizer.word_index\n",
    "## create sequence\n",
    "lst_text2seq= ktokenizer.texts_to_sequences(raw_tokenized_corpus)\n",
    "## padding sequence\n",
    "X_train = tf.keras.preprocessing.sequence.pad_sequences(lst_text2seq, \n",
    "                    maxlen=max_len)"
   ]
  },
  {
   "cell_type": "code",
   "execution_count": 43,
   "metadata": {},
   "outputs": [],
   "source": [
    "## text to sequence with the fitted tokenizer\n",
    "lst_text2seq = ktokenizer.texts_to_sequences(test_raw_tokenized_corpus)\n",
    "\n",
    "## padding sequence\n",
    "X_test = tf.keras.preprocessing.sequence.pad_sequences(lst_text2seq, maxlen=max_len,\n",
    "             padding=\"post\", truncating=\"post\")"
   ]
  },
  {
   "cell_type": "code",
   "execution_count": 44,
   "metadata": {},
   "outputs": [],
   "source": [
    "# Prepare the matrix of embeddings for the embeddings layer\n",
    "embeddings = np.zeros((len(dic_vocabulary)+1, dim))\n",
    "for word,idx in dic_vocabulary.items():\n",
    "    ## update the row with vector\n",
    "    try:\n",
    "        embeddings[idx] =  raw_w2v_model.wv[word]\n",
    "    ## if word not in model then skip and the row stays all 0s\n",
    "    except:\n",
    "        pass"
   ]
  },
  {
   "cell_type": "code",
   "execution_count": 45,
   "metadata": {},
   "outputs": [
    {
     "name": "stdout",
     "output_type": "stream",
     "text": [
      "Model: \"functional_7\"\n",
      "_________________________________________________________________\n",
      "Layer (type)                 Output Shape              Param #   \n",
      "=================================================================\n",
      "input_4 (InputLayer)         [(None, 15)]              0         \n",
      "_________________________________________________________________\n",
      "embedding_3 (Embedding)      (None, 15, 300)           4623000   \n",
      "_________________________________________________________________\n",
      "bidirectional_6 (Bidirection (None, 15, 30)            37920     \n",
      "_________________________________________________________________\n",
      "bidirectional_7 (Bidirection (None, 30)                5520      \n",
      "_________________________________________________________________\n",
      "dense_6 (Dense)              (None, 64)                1984      \n",
      "_________________________________________________________________\n",
      "dense_7 (Dense)              (None, 1)                 65        \n",
      "=================================================================\n",
      "Total params: 4,668,489\n",
      "Trainable params: 45,489\n",
      "Non-trainable params: 4,623,000\n",
      "_________________________________________________________________\n"
     ]
    }
   ],
   "source": [
    "# Build the Network\n",
    "from keras import layers, models\n",
    "import keras\n",
    "\n",
    "x_in = layers.Input(shape=(max_len,))\n",
    "\n",
    "#Embedding\n",
    "x = layers.Embedding(input_dim=embeddings.shape[0],  \n",
    "                     output_dim=embeddings.shape[1], \n",
    "                     weights=[embeddings],\n",
    "                     input_length=max_len, trainable=False)(x_in)\n",
    "\n",
    "## LSTM\n",
    "x = layers.Bidirectional(layers.LSTM(max_len, dropout=0.2, return_sequences=True))(x)\n",
    "x = layers.Bidirectional(layers.LSTM(max_len, dropout=0.2))(x)\n",
    "\n",
    "x = layers.Dense(64, activation='relu')(x)\n",
    "y_out = layers.Dense(1, activation='sigmoid')(x)\n",
    "\n",
    "## compile\n",
    "model = models.Model(x_in, y_out)              \n",
    "model.compile(loss='binary_crossentropy',\n",
    "              optimizer=keras.optimizers.Adam(), metrics=['accuracy'])\n",
    "\n",
    "model.summary()"
   ]
  },
  {
   "cell_type": "code",
   "execution_count": 50,
   "metadata": {},
   "outputs": [
    {
     "name": "stdout",
     "output_type": "stream",
     "text": [
      "Epoch 1/20\n",
      "44/44 [==============================] - 1s 23ms/step - loss: 0.9121 - accuracy: 0.6535 - val_loss: 0.6366 - val_accuracy: 0.6489\n",
      "Epoch 2/20\n",
      "44/44 [==============================] - 1s 21ms/step - loss: 0.9023 - accuracy: 0.6427 - val_loss: 0.6379 - val_accuracy: 0.6456\n",
      "Epoch 3/20\n",
      "44/44 [==============================] - 1s 21ms/step - loss: 0.9087 - accuracy: 0.6343 - val_loss: 0.5720 - val_accuracy: 0.7409\n",
      "Epoch 4/20\n",
      "44/44 [==============================] - 1s 21ms/step - loss: 0.8930 - accuracy: 0.6694 - val_loss: 0.5467 - val_accuracy: 0.7527\n",
      "Epoch 5/20\n",
      "44/44 [==============================] - 1s 21ms/step - loss: 0.9170 - accuracy: 0.6318 - val_loss: 0.6680 - val_accuracy: 0.5899\n",
      "Epoch 6/20\n",
      "44/44 [==============================] - 1s 21ms/step - loss: 0.8811 - accuracy: 0.6861 - val_loss: 0.5655 - val_accuracy: 0.7283\n",
      "Epoch 7/20\n",
      "44/44 [==============================] - 1s 20ms/step - loss: 0.8848 - accuracy: 0.6785 - val_loss: 0.6472 - val_accuracy: 0.6346\n",
      "Epoch 8/20\n",
      "44/44 [==============================] - 1s 21ms/step - loss: 0.8923 - accuracy: 0.6539 - val_loss: 0.6337 - val_accuracy: 0.6743\n",
      "Epoch 9/20\n",
      "44/44 [==============================] - 1s 20ms/step - loss: 0.8711 - accuracy: 0.6850 - val_loss: 0.5802 - val_accuracy: 0.7181\n"
     ]
    }
   ],
   "source": [
    "# Train the model\n",
    "callbacks = [tf.keras.callbacks.EarlyStopping(monitor='accuracy', patience=3)]\n",
    "training = model.fit(x=X_train, y=train_labels, batch_size=64, \n",
    "                     epochs=20, validation_split=0.3, class_weight={0: 1., 1: 2.5}, callbacks=callbacks)\n"
   ]
  },
  {
   "cell_type": "code",
   "execution_count": 51,
   "metadata": {},
   "outputs": [
    {
     "name": "stdout",
     "output_type": "stream",
     "text": [
      "Accuracy: 0.7211938043067624\n",
      "\n",
      "              precision    recall  f1-score   support\n",
      "\n",
      "    NoInsult       0.78      0.86      0.82      1954\n",
      "      Insult       0.45      0.32      0.38       693\n",
      "\n",
      "    accuracy                           0.72      2647\n",
      "   macro avg       0.62      0.59      0.60      2647\n",
      "weighted avg       0.70      0.72      0.70      2647\n",
      "\n"
     ]
    }
   ],
   "source": [
    "# Evaluate Model\n",
    "predictions = model.predict(X_test)\n",
    "predictions_report_proba(predictions, test_labels)"
   ]
  },
  {
   "cell_type": "markdown",
   "metadata": {},
   "source": [
    "## Same Classifier but replacing insults with 'fakeinsult'"
   ]
  },
  {
   "cell_type": "code",
   "execution_count": 41,
   "metadata": {},
   "outputs": [
    {
     "name": "stdout",
     "output_type": "stream",
     "text": [
      "Model: \"functional_5\"\n",
      "_________________________________________________________________\n",
      "Layer (type)                 Output Shape              Param #   \n",
      "=================================================================\n",
      "input_3 (InputLayer)         [(None, 15)]              0         \n",
      "_________________________________________________________________\n",
      "embedding_2 (Embedding)      (None, 15, 300)           4502700   \n",
      "_________________________________________________________________\n",
      "bidirectional_4 (Bidirection (None, 15, 30)            37920     \n",
      "_________________________________________________________________\n",
      "bidirectional_5 (Bidirection (None, 30)                5520      \n",
      "_________________________________________________________________\n",
      "dense_4 (Dense)              (None, 64)                1984      \n",
      "_________________________________________________________________\n",
      "dense_5 (Dense)              (None, 1)                 65        \n",
      "=================================================================\n",
      "Total params: 4,548,189\n",
      "Trainable params: 45,489\n",
      "Non-trainable params: 4,502,700\n",
      "_________________________________________________________________\n",
      "Epoch 1/20\n",
      "44/44 [==============================] - 2s 46ms/step - loss: 0.9595 - accuracy: 0.6379 - val_loss: 0.6786 - val_accuracy: 0.6363\n",
      "Epoch 2/20\n",
      "44/44 [==============================] - 1s 20ms/step - loss: 0.9517 - accuracy: 0.6531 - val_loss: 0.6805 - val_accuracy: 0.5738\n",
      "Epoch 3/20\n",
      "44/44 [==============================] - 1s 21ms/step - loss: 0.9407 - accuracy: 0.6423 - val_loss: 0.6362 - val_accuracy: 0.6776\n",
      "Epoch 4/20\n",
      "44/44 [==============================] - 1s 20ms/step - loss: 0.9222 - accuracy: 0.6633 - val_loss: 0.6047 - val_accuracy: 0.7004\n",
      "Epoch 5/20\n",
      "44/44 [==============================] - 1s 20ms/step - loss: 0.8981 - accuracy: 0.6629 - val_loss: 0.5712 - val_accuracy: 0.7409\n",
      "Epoch 6/20\n",
      "44/44 [==============================] - 1s 19ms/step - loss: 0.8870 - accuracy: 0.6908 - val_loss: 0.7054 - val_accuracy: 0.5688\n",
      "Epoch 7/20\n",
      "44/44 [==============================] - 1s 19ms/step - loss: 0.8395 - accuracy: 0.7085 - val_loss: 0.5545 - val_accuracy: 0.7435\n",
      "Epoch 8/20\n",
      "44/44 [==============================] - 1s 23ms/step - loss: 0.8442 - accuracy: 0.6970 - val_loss: 0.5112 - val_accuracy: 0.7654\n",
      "Epoch 9/20\n",
      "44/44 [==============================] - 1s 24ms/step - loss: 0.8240 - accuracy: 0.7205 - val_loss: 0.5586 - val_accuracy: 0.7215\n",
      "Epoch 10/20\n",
      "44/44 [==============================] - 1s 23ms/step - loss: 0.8259 - accuracy: 0.7111 - val_loss: 0.5229 - val_accuracy: 0.7376\n",
      "Epoch 11/20\n",
      "44/44 [==============================] - 1s 22ms/step - loss: 0.7995 - accuracy: 0.7183 - val_loss: 0.5130 - val_accuracy: 0.7527\n",
      "Epoch 12/20\n",
      "44/44 [==============================] - 1s 21ms/step - loss: 0.7961 - accuracy: 0.7104 - val_loss: 0.5019 - val_accuracy: 0.7519\n",
      "Accuracy: 0.7627502833396298\n",
      "\n",
      "              precision    recall  f1-score   support\n",
      "\n",
      "    NoInsult       0.80      0.90      0.85      1954\n",
      "      Insult       0.57      0.37      0.45       693\n",
      "\n",
      "    accuracy                           0.76      2647\n",
      "   macro avg       0.69      0.64      0.65      2647\n",
      "weighted avg       0.74      0.76      0.74      2647\n",
      "\n"
     ]
    }
   ],
   "source": [
    "ktokenizer = tf.keras.preprocessing.text.Tokenizer(lower=True, split=' ', \n",
    "                     oov_token=\"NaN\", \n",
    "                     filters='!\"#$%&()*+,-./:;<=>?@[\\\\]^_`{|}~\\t\\n')\n",
    "ktokenizer.fit_on_texts(tokenized_corpus)\n",
    "dic_vocabulary = ktokenizer.word_index\n",
    "## create sequence\n",
    "lst_text2seq= ktokenizer.texts_to_sequences(tokenized_corpus)\n",
    "## padding sequence\n",
    "X_train = tf.keras.preprocessing.sequence.pad_sequences(lst_text2seq, \n",
    "                    maxlen=max_len)\n",
    "\n",
    "## text to sequence with the fitted tokenizer\n",
    "lst_text2seq = ktokenizer.texts_to_sequences(test_tokenized_corpus)\n",
    "\n",
    "## padding sequence\n",
    "X_test = tf.keras.preprocessing.sequence.pad_sequences(lst_text2seq, maxlen=max_len,\n",
    "             padding=\"post\", truncating=\"post\")\n",
    "\n",
    "# Prepare the matrix of embeddings for the embeddings layer\n",
    "embeddings = np.zeros((len(dic_vocabulary)+1, dim))\n",
    "for word,idx in dic_vocabulary.items():\n",
    "    ## update the row with vector\n",
    "    try:\n",
    "        embeddings[idx] =  w2v_model.wv[word]\n",
    "    ## if word not in model then skip and the row stays all 0s\n",
    "    except:\n",
    "        pass\n",
    "    \n",
    "x_in = layers.Input(shape=(max_len,))\n",
    "\n",
    "#Embedding\n",
    "x = layers.Embedding(input_dim=embeddings.shape[0],  \n",
    "                     output_dim=embeddings.shape[1], \n",
    "                     weights=[embeddings],\n",
    "                     input_length=max_len, trainable=False)(x_in)\n",
    "\n",
    "## LSTM\n",
    "x = layers.Bidirectional(layers.LSTM(max_len, dropout=0.2, return_sequences=True))(x)\n",
    "x = layers.Bidirectional(layers.LSTM(max_len, dropout=0.2))(x)\n",
    "\n",
    "x = layers.Dense(64, activation='relu')(x)\n",
    "y_out = layers.Dense(1, activation='sigmoid')(x)\n",
    "\n",
    "## compile\n",
    "model = models.Model(x_in, y_out)              \n",
    "model.compile(loss='binary_crossentropy',\n",
    "              optimizer=keras.optimizers.Adam(), metrics=['accuracy'])\n",
    "\n",
    "model.summary()\n",
    "\n",
    "callbacks = [tf.keras.callbacks.EarlyStopping(monitor='accuracy', patience=3)]\n",
    "training = model.fit(x=X_train, y=train_labels, batch_size=64, \n",
    "                     epochs=20, validation_split=0.3, class_weight={0: 1., 1: 2.5}, callbacks=callbacks)\n",
    "\n",
    "# Evaluate Model\n",
    "predictions = model.predict(X_test)\n",
    "predictions_report_proba(predictions, test_labels)"
   ]
  },
  {
   "cell_type": "markdown",
   "metadata": {},
   "source": [
    "# Language Models. BERT\n",
    "\n",
    "In the field of computer vision, researchers have repeatedly shown the value of transfer learning — pre-training a neural network model on a known task, for instance ImageNet, and then performing fine-tuning — using the trained neural network as the basis of a new purpose-specific model. In recent years, researchers have been showing that a similar technique can be useful in many natural language tasks.\n",
    "\n",
    "BERT makes use of Transformer, an attention mechanism that learns contextual relations between words (or sub-words) in a text. In its vanilla form, Transformer includes two separate mechanisms — an encoder that reads the text input and a decoder that produces a prediction for the task. Since BERT’s goal is to generate a language model, only the encoder mechanism is necessary.\n",
    "\n",
    "As opposed to directional models, which read the text input sequentially (left-to-right or right-to-left), the Transformer encoder reads the entire sequence of words at once. Therefore it is considered bidirectional, though it would be more accurate to say that it’s non-directional. This characteristic allows the model to learn the context of a word based on all of its surroundings (left and right of the word)."
   ]
  },
  {
   "cell_type": "code",
   "execution_count": 119,
   "metadata": {},
   "outputs": [
    {
     "name": "stderr",
     "output_type": "stream",
     "text": [
      "/Users/rharo/.virtualenvs/trolling_detection/lib/python3.8/site-packages/transformers/tokenization_utils_base.py:1767: FutureWarning: The `pad_to_max_length` argument is deprecated and will be removed in a future version, use `padding=True` or `padding='longest'` to pad to the longest sequence in the batch, or use `padding='max_length'` to pad to a max length. In this case, you can give a specific length with `max_length` (e.g. `max_length=45`) or leave max_length to None to pad to the maximal input size of the model (e.g. 512 for Bert).\n",
      "  warnings.warn(\n"
     ]
    }
   ],
   "source": [
    "import transformers\n",
    "## bert tokenizer\n",
    "tokenizer = transformers.BertTokenizer.from_pretrained('bert-base-uncased', do_lower_case=True)\n",
    "maxlen = 50\n",
    "\n",
    "tokens_train = tokenizer.batch_encode_plus(\n",
    "    train_comments,\n",
    "    add_special_tokens = True, # add [CLS], [SEP]\n",
    "    max_length = maxlen,\n",
    "    pad_to_max_length=True, # add [PAD] tokens\n",
    "    truncation=True,\n",
    "    return_attention_mask = True, # add attention mask to not focus on pad tokens\n",
    ")\n",
    "\n",
    "## feature matrix\n",
    "X_train = [np.asarray(tokens_train['input_ids'], dtype='int32'), \n",
    "           np.asarray(tokens_train['attention_mask'], dtype='int32'), \n",
    "           np.asarray(tokens_train['token_type_ids'], dtype='int32')]\n",
    "\n",
    "tokens_test = tokenizer.batch_encode_plus(\n",
    "    test_comments,\n",
    "    add_special_tokens = True, # add [CLS], [SEP]\n",
    "    max_length = maxlen,\n",
    "    pad_to_max_length=True, # add [PAD] tokens\n",
    "    truncation=True,\n",
    "    return_attention_mask = True, # add attention mask to not focus on pad tokens\n",
    ")\n",
    "\n",
    "## feature matrix\n",
    "X_test = [np.asarray(tokens_test['input_ids'], dtype='int32'), \n",
    "           np.asarray(tokens_test['attention_mask'], dtype='int32'), \n",
    "           np.asarray(tokens_test['token_type_ids'], dtype='int32')]"
   ]
  },
  {
   "cell_type": "code",
   "execution_count": 121,
   "metadata": {},
   "outputs": [
    {
     "name": "stderr",
     "output_type": "stream",
     "text": [
      "Some weights of the model checkpoint at bert-base-uncased were not used when initializing TFBertModel: ['nsp___cls', 'mlm___cls']\n",
      "- This IS expected if you are initializing TFBertModel from the checkpoint of a model trained on another task or with another architecture (e.g. initializing a BertForSequenceClassification model from a BertForPretraining model).\n",
      "- This IS NOT expected if you are initializing TFBertModel from the checkpoint of a model that you expect to be exactly identical (initializing a BertForSequenceClassification model from a BertForSequenceClassification model).\n",
      "All the weights of TFBertModel were initialized from the model checkpoint at bert-base-uncased.\n",
      "If your task is similar to the task the model of the checkpoint was trained on, you can already use TFBertModel for predictions without further training.\n"
     ]
    },
    {
     "name": "stdout",
     "output_type": "stream",
     "text": [
      "Model: \"functional_13\"\n",
      "__________________________________________________________________________________________________\n",
      "Layer (type)                    Output Shape         Param #     Connected to                     \n",
      "==================================================================================================\n",
      "input_idx (InputLayer)          [(None, 50)]         0                                            \n",
      "__________________________________________________________________________________________________\n",
      "input_masks (InputLayer)        [(None, 50)]         0                                            \n",
      "__________________________________________________________________________________________________\n",
      "input_segments (InputLayer)     [(None, 50)]         0                                            \n",
      "__________________________________________________________________________________________________\n",
      "tf_bert_model_3 (TFBertModel)   ((None, 50, 768), (N 109482240   input_idx[0][0]                  \n",
      "                                                                 input_masks[0][0]                \n",
      "                                                                 input_segments[0][0]             \n",
      "__________________________________________________________________________________________________\n",
      "bidirectional_8 (Bidirectional) (None, 50, 128)      426496      tf_bert_model_3[0][0]            \n",
      "__________________________________________________________________________________________________\n",
      "global_average_pooling1d_3 (Glo (None, 128)          0           bidirectional_8[0][0]            \n",
      "__________________________________________________________________________________________________\n",
      "global_max_pooling1d (GlobalMax (None, 128)          0           bidirectional_8[0][0]            \n",
      "__________________________________________________________________________________________________\n",
      "concatenate (Concatenate)       (None, 256)          0           global_average_pooling1d_3[0][0] \n",
      "                                                                 global_max_pooling1d[0][0]       \n",
      "__________________________________________________________________________________________________\n",
      "dropout_148 (Dropout)           (None, 256)          0           concatenate[0][0]                \n",
      "__________________________________________________________________________________________________\n",
      "dense_13 (Dense)                (None, 1)            257         dropout_148[0][0]                \n",
      "==================================================================================================\n",
      "Total params: 109,908,993\n",
      "Trainable params: 426,753\n",
      "Non-trainable params: 109,482,240\n",
      "__________________________________________________________________________________________________\n"
     ]
    }
   ],
   "source": [
    "## inputs\n",
    "idx = layers.Input((50), dtype=\"int32\", name=\"input_idx\")\n",
    "masks = layers.Input((50), dtype=\"int32\", name=\"input_masks\")\n",
    "segments = layers.Input((50), dtype=\"int32\", name=\"input_segments\")\n",
    "\n",
    "## pre-trained bert\n",
    "bert_model = transformers.TFBertModel.from_pretrained(\"bert-base-uncased\")\n",
    "bert_model.trainable = False\n",
    "bert_out, _ = bert_model([idx, masks, segments])\n",
    "\n",
    "## fine-tuning\n",
    "# Add trainable layers on top of frozen layers to adapt the pretrained features on the new data.\n",
    "bi_lstm = tf.keras.layers.Bidirectional(\n",
    "        tf.keras.layers.LSTM(64, return_sequences=True)\n",
    "    )(bert_out)\n",
    "# Applying hybrid pooling approach to bi_lstm sequence output.\n",
    "avg_pool = tf.keras.layers.GlobalAveragePooling1D()(bi_lstm)\n",
    "max_pool = tf.keras.layers.GlobalMaxPooling1D()(bi_lstm)\n",
    "concat = tf.keras.layers.concatenate([avg_pool, max_pool])\n",
    "dropout = tf.keras.layers.Dropout(0.3)(concat)\n",
    "#x = layers.GlobalAveragePooling1D()(bert_out)\n",
    "#x = layers.Dense(64, activation=\"relu\")(x)\n",
    "y_out = layers.Dense(1, activation='sigmoid')(dropout)\n",
    "## compile\n",
    "model = models.Model([idx, masks, segments], y_out)\n",
    "for layer in model.layers[:4]:\n",
    "    layer.trainable = False\n",
    "model.compile(loss='binary_crossentropy', \n",
    "              optimizer='adam', metrics=['accuracy'])\n",
    "model.summary()"
   ]
  },
  {
   "cell_type": "code",
   "execution_count": 122,
   "metadata": {},
   "outputs": [
    {
     "name": "stdout",
     "output_type": "stream",
     "text": [
      "44/44 [==============================] - 233s 5s/step - loss: 0.6711 - accuracy: 0.7875 - val_loss: 0.4103 - val_accuracy: 0.8101\n"
     ]
    }
   ],
   "source": [
    "training = model.fit(x=X_train, y=train_labels, batch_size=64, \n",
    "                     epochs=1, validation_split=0.3, class_weight={0: 1., 1: 2.5})\n"
   ]
  },
  {
   "cell_type": "code",
   "execution_count": 123,
   "metadata": {},
   "outputs": [
    {
     "name": "stdout",
     "output_type": "stream",
     "text": [
      "Accuracy: 0.8273517189270873\n",
      "\n",
      "              precision    recall  f1-score   support\n",
      "\n",
      "    NoInsult       0.88      0.89      0.88      1954\n",
      "      Insult       0.68      0.66      0.67       693\n",
      "\n",
      "    accuracy                           0.83      2647\n",
      "   macro avg       0.78      0.77      0.77      2647\n",
      "weighted avg       0.83      0.83      0.83      2647\n",
      "\n"
     ]
    }
   ],
   "source": [
    "# Evaluate Model\n",
    "predictions = model.predict(X_test)\n",
    "predictions_report_proba(predictions, test_labels)"
   ]
  },
  {
   "cell_type": "code",
   "execution_count": null,
   "metadata": {},
   "outputs": [],
   "source": []
  }
 ],
 "metadata": {
  "kernelspec": {
   "display_name": "Python 3",
   "language": "python",
   "name": "python3"
  },
  "language_info": {
   "codemirror_mode": {
    "name": "ipython",
    "version": 3
   },
   "file_extension": ".py",
   "mimetype": "text/x-python",
   "name": "python",
   "nbconvert_exporter": "python",
   "pygments_lexer": "ipython3",
   "version": "3.8.6"
  }
 },
 "nbformat": 4,
 "nbformat_minor": 1
}
